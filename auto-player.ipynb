{
 "cells": [
  {
   "cell_type": "code",
   "execution_count": 1,
   "metadata": {},
   "outputs": [],
   "source": [
    "##### この２行だけ必要に応じて変えてください #####\n",
    "GAME_NAME = 'deresute'\n",
    "t_frame = [25,125] # どのフレームを教師データとして使うか"
   ]
  },
  {
   "cell_type": "code",
   "execution_count": 2,
   "metadata": {},
   "outputs": [],
   "source": [
    "import cv2\n",
    "import numpy as np\n",
    "import tensorflow as tf\n",
    "from sklearn.utils import shuffle"
   ]
  },
  {
   "cell_type": "code",
   "execution_count": 3,
   "metadata": {
    "code_folding": []
   },
   "outputs": [],
   "source": [
    "### 動画の保存\n",
    "def save(movie, name):\n",
    "    # nameには 'hoge.mp4' などを渡す\n",
    "    result = name\n",
    "    fps    = 30.0\n",
    "    height = movie.shape[1]\n",
    "    width  = movie.shape[2]\n",
    "    fourcc = cv2.VideoWriter_fourcc('m', 'p', '4', 'v')\n",
    "    out = cv2.VideoWriter(result, int(fourcc), fps, (int(width), int(height)))\n",
    "    for i in range(movie.shape[0]):\n",
    "        out.write(movie[i])\n",
    "    out.release()"
   ]
  },
  {
   "cell_type": "code",
   "execution_count": 4,
   "metadata": {
    "code_folding": []
   },
   "outputs": [],
   "source": [
    "### 動画の読み取り\n",
    "def read(name, resize=False):\n",
    "    # nameには 'hoge.mp4' などを渡す\n",
    "    movie = []\n",
    "    cap = cv2.VideoCapture(name)\n",
    "    for i in range(1000):\n",
    "        ret, frame = cap.read()\n",
    "        if resize:\n",
    "            frame = cv2.resize(frame, (160, 120))\n",
    "        movie.append(frame)\n",
    "        if cv2.waitKey(1) == 27:\n",
    "            break\n",
    "    cap.release()\n",
    "    return np.array(movie)"
   ]
  },
  {
   "cell_type": "code",
   "execution_count": 5,
   "metadata": {
    "code_folding": []
   },
   "outputs": [],
   "source": [
    "### 動画の閲覧\n",
    "# 何かキーを押してる間再生\n",
    "def watch(movie):\n",
    "    for t in range(movie.shape[0]):\n",
    "        cv2.imshow('frame', movie[t])\n",
    "        temp_key = cv2.waitKey(0)\n",
    "        if temp_key == 27: break\n",
    "    cv2.destroyAllWindows()"
   ]
  },
  {
   "cell_type": "code",
   "execution_count": 6,
   "metadata": {
    "code_folding": []
   },
   "outputs": [],
   "source": [
    "### 正解ラベルの可視化\n",
    "def overlay_(x, y, points):\n",
    "    img = x.copy()\n",
    "    for k in range(1, y.shape[0]):\n",
    "        if y[k] == 1:\n",
    "            cv2.circle(img, (points[k-1,1], points[k-1,0]), 20, (255,0,0), 3)\n",
    "    return img\n",
    "\n",
    "def overlay(X, Y, points):\n",
    "    imgs = []\n",
    "    for t in range(X.shape[0]):\n",
    "        img = overlay_(X[t], Y[t], points)\n",
    "        imgs.append(img)\n",
    "    imgs = np.array(imgs)\n",
    "    return imgs\n",
    "\n",
    "points = {}\n",
    "points['deresute'] = np.zeros((9,2)).astype(np.uint16)\n",
    "points['deresute'][:,0] = 180\n",
    "points['deresute'][:,1] = np.arange(41, 279, 236/8)\n",
    "points['mirisita'] = np.zeros((11,2)).astype(np.uint16)\n",
    "points['mirisita'][:,0] = 189\n",
    "points['mirisita'][:,1] = np.arange(53, 267, 211/10)\n",
    "points['bandori'] = np.zeros((13,2)).astype(np.uint16)\n",
    "points['bandori'][:,0] = 210\n",
    "points['bandori'][:,1] = np.arange(22, 300, 320/14)"
   ]
  },
  {
   "cell_type": "code",
   "execution_count": 7,
   "metadata": {},
   "outputs": [],
   "source": [
    "### 乱数のシード値の設定\n",
    "rng = np.random.RandomState(2525)\n",
    "random_state = 39"
   ]
  },
  {
   "cell_type": "code",
   "execution_count": 8,
   "metadata": {},
   "outputs": [],
   "source": [
    "data_X = np.load(GAME_NAME + '/data_X.npy')\n",
    "data_T = np.load(GAME_NAME + '/data_T.npy')"
   ]
  },
  {
   "cell_type": "code",
   "execution_count": 9,
   "metadata": {},
   "outputs": [],
   "source": [
    "movie = data_X.copy()"
   ]
  },
  {
   "cell_type": "code",
   "execution_count": 10,
   "metadata": {},
   "outputs": [],
   "source": [
    "watch(movie)"
   ]
  },
  {
   "cell_type": "code",
   "execution_count": 11,
   "metadata": {},
   "outputs": [],
   "source": [
    "train_X = ((data_X[t_frame[0]-3:t_frame[1]-3] - data_X.mean())/data_X.std())\n",
    "train_T = data_T # <- 120:220 # 3フレーム分未来の予測をする"
   ]
  },
  {
   "cell_type": "code",
   "execution_count": 12,
   "metadata": {},
   "outputs": [],
   "source": [
    "movie = overlay(read(GAME_NAME + '/movie.mp4')[t_frame[0]+3:t_frame[1]+3], train_T, points[GAME_NAME])"
   ]
  },
  {
   "cell_type": "code",
   "execution_count": 13,
   "metadata": {},
   "outputs": [],
   "source": [
    "watch(movie)"
   ]
  },
  {
   "cell_type": "code",
   "execution_count": 14,
   "metadata": {
    "code_folding": []
   },
   "outputs": [],
   "source": [
    "class Conv:\n",
    "    def __init__(self, filter_shape, function=lambda x: x, strides=[1,1,1,1], padding='VALID'):\n",
    "        # Xavier Initialization\n",
    "        fan_in = np.prod(filter_shape[:3])\n",
    "        fan_out = np.prod(filter_shape[:2]) * filter_shape[3]\n",
    "        self.W = tf.Variable(rng.uniform(\n",
    "                        low=-np.sqrt(6/(fan_in + fan_out)),\n",
    "                        high=np.sqrt(6/(fan_in + fan_out)),\n",
    "                        size=filter_shape\n",
    "                    ).astype('float32'), name='W')\n",
    "        self.b = tf.Variable(np.zeros((filter_shape[3]), dtype='float32'), name='b') # バイアスはフィルタごとなので, 出力フィルタ数と同じ次元数\n",
    "        self.function = function\n",
    "        self.strides = strides\n",
    "        self.padding = padding\n",
    "\n",
    "    def f_prop(self, x):\n",
    "        u = tf.nn.conv2d(x, self.W, strides=self.strides, padding=self.padding) + self.b\n",
    "        return self.function(u)"
   ]
  },
  {
   "cell_type": "code",
   "execution_count": 15,
   "metadata": {
    "code_folding": []
   },
   "outputs": [],
   "source": [
    "class Pool:\n",
    "    \n",
    "    def __init__(self, ksize=[1,2,2,1], strides=[1,2,2,1], padding='VALID'):\n",
    "        self.ksize = ksize\n",
    "        self.strides = strides\n",
    "        self.padding = padding\n",
    "    \n",
    "    def f_prop(self, x):\n",
    "        return tf.nn.max_pool(x, ksize=self.ksize, strides=self.strides, padding=self.padding)"
   ]
  },
  {
   "cell_type": "code",
   "execution_count": 16,
   "metadata": {
    "code_folding": []
   },
   "outputs": [],
   "source": [
    "class Flatten:\n",
    "    def f_prop(self, x):\n",
    "        return tf.reshape(x, (-1, np.prod(x.get_shape().as_list()[1:])))"
   ]
  },
  {
   "cell_type": "code",
   "execution_count": 17,
   "metadata": {
    "code_folding": []
   },
   "outputs": [],
   "source": [
    "class Dense:\n",
    "    def __init__(self, in_dim, out_dim, function=lambda x: x):\n",
    "        # Xavier Initialization\n",
    "        self.W = tf.Variable(rng.uniform(\n",
    "                        low=-np.sqrt(6/(in_dim + out_dim)),\n",
    "                        high=np.sqrt(6/(in_dim + out_dim)),\n",
    "                        size=(in_dim, out_dim)\n",
    "                    ).astype('float32'), name='W')\n",
    "        self.b = tf.Variable(np.zeros([out_dim]).astype('float32'))\n",
    "        self.function = function\n",
    "\n",
    "    def f_prop(self, x):\n",
    "        return self.function(tf.matmul(x, self.W) + self.b)"
   ]
  },
  {
   "cell_type": "code",
   "execution_count": 18,
   "metadata": {},
   "outputs": [],
   "source": [
    "layers = [\n",
    "    Conv(filter_shape=[28,28,3,5], function=tf.nn.relu, strides=[1,4,4,1]), # 120x160x3 -> 34x24x5\n",
    "    Pool(ksize=[1,2,2,1], strides=[1,2,2,1]), # 34x24x5 -> 17x12x5\n",
    "    Flatten(),\n",
    "    Dense(17*12*5, data_T.shape[1])\n",
    "]\n",
    "\n",
    "x = tf.placeholder(tf.float32, [None, 120, 160, 3])\n",
    "t = tf.placeholder(tf.float32, [None, data_T.shape[1]])\n",
    "\n",
    "def f_props(layers, x):\n",
    "    for layer in layers:\n",
    "        x = layer.f_prop(x)\n",
    "    return x\n",
    "\n",
    "y = f_props(layers, x)\n",
    "\n",
    "cost = tf.reduce_mean(tf.nn.sigmoid_cross_entropy_with_logits(logits=y, labels=t))\n",
    "train = tf.train.GradientDescentOptimizer(0.02).minimize(cost)\n",
    "\n",
    "pred = tf.cast(tf.rint(tf.sigmoid(y)),dtype=tf.int32)"
   ]
  },
  {
   "cell_type": "code",
   "execution_count": 19,
   "metadata": {},
   "outputs": [
    {
     "name": "stdout",
     "output_type": "stream",
     "text": [
      "102 EPOCH:: 1, Validation cost: 0.250\n",
      "4 EPOCH:: 11, Validation cost: 0.043\n",
      "1 EPOCH:: 21, Validation cost: 0.018\n",
      "0 EPOCH:: 31, Validation cost: 0.011\n",
      "1 EPOCH:: 41, Validation cost: 0.008\n"
     ]
    }
   ],
   "source": [
    "n_epochs = 50\n",
    "batch_size = 10\n",
    "n_batches = train_X.shape[0]//batch_size\n",
    "\n",
    "init = tf.global_variables_initializer()\n",
    "sess = tf.Session()\n",
    "sess.run(init)\n",
    "for epoch in range(n_epochs):\n",
    "    train_X, train_T = shuffle(train_X, train_T, random_state=random_state)\n",
    "    for i in range(n_batches):\n",
    "        start = i * batch_size\n",
    "        end = start + batch_size\n",
    "        sess.run(train, feed_dict={x: train_X[start:end], t: train_T[start:end]})\n",
    "    pred_Y, valid_cost = sess.run([pred, cost], feed_dict={x: train_X, t: train_T})\n",
    "    if epoch%10 == 0:\n",
    "        score = np.sum(np.abs(pred_Y - train_T.astype(np.int32)))\n",
    "        print(score, end=' ')\n",
    "        print('EPOCH:: %i, Validation cost: %.3f' % (epoch + 1, valid_cost))"
   ]
  },
  {
   "cell_type": "code",
   "execution_count": 20,
   "metadata": {},
   "outputs": [],
   "source": [
    "for i in range(10):\n",
    "    test_X = ((data_X[100*i:100*(i+1)] - data_X.mean())/data_X.std())\n",
    "    pred_Y = sess.run(pred, feed_dict={x: test_X})\n",
    "    np.save(GAME_NAME + '/pred' + str(i) + '.npy', pred_Y)"
   ]
  },
  {
   "cell_type": "code",
   "execution_count": 21,
   "metadata": {},
   "outputs": [],
   "source": [
    "pred_Y = np.zeros([0,data_T.shape[1]], dtype=np.int32)\n",
    "for i in range(10):\n",
    "    pred_Y = np.append(pred_Y, np.load(GAME_NAME +  '/pred' + str(i) + '.npy'), axis=0)"
   ]
  },
  {
   "cell_type": "code",
   "execution_count": 22,
   "metadata": {},
   "outputs": [],
   "source": [
    "movie = overlay(read(GAME_NAME + '/movie.mp4')[3:1000], pred_Y[0:997], points[GAME_NAME])"
   ]
  },
  {
   "cell_type": "code",
   "execution_count": 23,
   "metadata": {},
   "outputs": [],
   "source": [
    "watch(movie)                    "
   ]
  },
  {
   "cell_type": "code",
   "execution_count": 24,
   "metadata": {},
   "outputs": [],
   "source": [
    "save(movie, GAME_NAME + '/pred_movie.mp4')"
   ]
  }
 ],
 "metadata": {
  "kernelspec": {
   "display_name": "Python 3",
   "language": "python",
   "name": "python3"
  },
  "language_info": {
   "codemirror_mode": {
    "name": "ipython",
    "version": 3
   },
   "file_extension": ".py",
   "mimetype": "text/x-python",
   "name": "python",
   "nbconvert_exporter": "python",
   "pygments_lexer": "ipython3",
   "version": "3.5.2"
  }
 },
 "nbformat": 4,
 "nbformat_minor": 2
}
